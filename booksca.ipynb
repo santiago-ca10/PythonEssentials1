{
 "cells": [
  {
   "cell_type": "markdown",
   "id": "411dad99",
   "metadata": {},
   "source": [
    "**Caracteres especiales** \n",
    "Caracteres de escape en python"
   ]
  },
  {
   "cell_type": "code",
   "execution_count": null,
   "id": "a51c59a5",
   "metadata": {},
   "outputs": [],
   "source": [
    "#escape \\\\ - Barra invertida literal\n",
    "print(\"C:\\\\carpeta\\\\archivo.txt\")"
   ]
  },
  {
   "cell_type": "code",
   "execution_count": null,
   "id": "114bcfd0",
   "metadata": {},
   "outputs": [],
   "source": [
    "#escape \\' - Comilla simple literal\n",
    "print('epa\\' la arepa')"
   ]
  },
  {
   "cell_type": "code",
   "execution_count": null,
   "id": "69b9d67c",
   "metadata": {},
   "outputs": [],
   "source": [
    "#escape \\\" - Comilla doble literal\n",
    "print(\"Ella dijo: \\\"Hola\\\"\")"
   ]
  },
  {
   "cell_type": "code",
   "execution_count": null,
   "id": "c42d9e72",
   "metadata": {},
   "outputs": [],
   "source": [
    "#escape \\n - Nueva línea\n",
    "print(\"hola\\nmundo\")"
   ]
  },
  {
   "cell_type": "code",
   "execution_count": null,
   "id": "be2ebe2f",
   "metadata": {},
   "outputs": [],
   "source": [
    "#escape \\t - Tabulación horizontal\n",
    "print(\"hola:\\tpedro\")"
   ]
  },
  {
   "cell_type": "code",
   "execution_count": null,
   "id": "0eafd170",
   "metadata": {},
   "outputs": [],
   "source": [
    "#escape \\r - Retorno de carro (carriage return)\n",
    "print(\"Hola \\rAdiós\")"
   ]
  },
  {
   "cell_type": "code",
   "execution_count": null,
   "id": "5d709325",
   "metadata": {},
   "outputs": [],
   "source": [
    "#escape \\b - Retroceso (backspace)\n",
    "print(\"Carros\\b\")"
   ]
  },
  {
   "cell_type": "code",
   "execution_count": null,
   "id": "e00cf2ab",
   "metadata": {},
   "outputs": [],
   "source": [
    "#escape \\f - Avance de página (form feed)\n",
    "print(\"Primera\\f Segunda\")\n",
    "#Rara vez visible, cambia de página\n",
    "\n",
    "\"\"\"\n",
    "Primera\n",
    "Segunda\n",
    "\"\"\""
   ]
  },
  {
   "cell_type": "code",
   "execution_count": null,
   "id": "f817bec8",
   "metadata": {},
   "outputs": [],
   "source": [
    "#escape \\v - Tabulación vertical\n",
    "print(\"Hola \\v Mundo\")\n",
    "#Salto vertical (poco usado)\n",
    "\"\"\"\n",
    "a\n",
    " b\n",
    "\"\"\""
   ]
  },
  {
   "cell_type": "code",
   "execution_count": null,
   "id": "ba074f81",
   "metadata": {},
   "outputs": [],
   "source": [
    "#escape \\a - Alerta acustica (bell)\n",
    "print('\\a')\n",
    "#Sonido (si tu sistema lo permite)"
   ]
  },
  {
   "cell_type": "code",
   "execution_count": null,
   "id": "e174ce7d",
   "metadata": {},
   "outputs": [],
   "source": [
    "#escape \\\\N{...} - Caracter Unicode por nombre oficial\n",
    "print(\"Hola \\N{grinning face}\")\n",
    "print(\"Hola \\N{smiling face with sunglasses}\")\n",
    "print('\\N{LATIN SMALL LETTER N WITH TILDE}')\n",
    "print('\\N{eyes}')\n",
    "print('\\N{black heart}')\n",
    "print(\"carechimba \\N{blue heart}\")\n",
    "#etc"
   ]
  },
  {
   "cell_type": "code",
   "execution_count": null,
   "id": "f2c6ce94",
   "metadata": {},
   "outputs": [],
   "source": [
    "#escape \\\\uXXXX -  Unicode hexadecimal 4 dígitos\n",
    "print(\"\\u00F1\")"
   ]
  },
  {
   "cell_type": "code",
   "execution_count": null,
   "id": "86b27942",
   "metadata": {},
   "outputs": [],
   "source": [
    "#escape \\\\UXXXXXXXX -  Unicode hexadecimal 8 dígitos\n",
    "print(\"\\U0001F600\")"
   ]
  },
  {
   "cell_type": "markdown",
   "id": "cf74d0e8",
   "metadata": {},
   "source": [
    "**Argumentos de palabra clave**\n"
   ]
  },
  {
   "cell_type": "code",
   "execution_count": null,
   "id": "eb7e0c32",
   "metadata": {},
   "outputs": [],
   "source": [
    "print(\"My name is\", \"Python.\", end=\" \")\n",
    "print(\"Monty Python.\")\n"
   ]
  },
  {
   "cell_type": "code",
   "execution_count": null,
   "id": "bcd0e305",
   "metadata": {},
   "outputs": [],
   "source": [
    "print(\"My\", \"name\", \"is\", \"Monty\", \"Python.\", sep=\"-\")"
   ]
  },
  {
   "cell_type": "code",
   "execution_count": 6,
   "id": "795b4a6c",
   "metadata": {},
   "outputs": [
    {
     "name": "stdout",
     "output_type": "stream",
     "text": [
      "My_name_is*Monty*Python.*\n"
     ]
    }
   ],
   "source": [
    "print(\"My\", \"name\", \"is\", sep=\"_\", end=\"*\")\n",
    "print(\"Monty\", \"Python.\", sep=\"*\", end=\"*\\n\")\n"
   ]
  },
  {
   "cell_type": "markdown",
   "id": "bac9e557",
   "metadata": {},
   "source": [
    "¿Cómo identificarlos fácilmente?\n",
    "Lee la documentación de la función: ahí están listados los keyword arguments.\n",
    "En funciones propias, puedes usar def mi_func(a, b=2) → b es un argumento de palabra clave.\n",
    "\n",
    "En Python, varias funciones incorporadas aceptan argumentos de palabra clave que modifican su comportamiento. Por ejemplo, la función `print()` permite usar los argumentos `sep`, `end`, `file` y `flush`. Un ejemplo de uso sería:\n",
    "\n",
    "```python\n",
    "print(\"A\", \"B\", sep=\"-\", end=\"!\")\n",
    "```\n",
    "\n",
    "La función `input()` tiene el argumento `prompt`, como en:\n",
    "\n",
    "```python\n",
    "nombre = input(prompt=\"¿Tu nombre? \")\n",
    "```\n",
    "\n",
    "La función `round()` puede recibir el argumento `ndigits` para especificar la cantidad de decimales, como en:\n",
    "\n",
    "```python\n",
    "round(3.14159, ndigits=2)\n",
    "```\n",
    "\n",
    "La función `sum()` acepta el argumento `start`, por ejemplo:\n",
    "\n",
    "```python\n",
    "sum([1, 2, 3], start=10)\n",
    "```\n",
    "\n",
    "...que suma los elementos de la lista a partir de un valor inicial.\n",
    "\n",
    "Las funciones `max()` y `min()` aceptan los argumentos `key` y `default`, como en:\n",
    "\n",
    "```python\n",
    "max(lista, key=len)\n",
    "```\n",
    "\n",
    "...para encontrar el elemento más largo.\n",
    "\n",
    "La función `sorted()` utiliza `key` y `reverse`, por ejemplo:\n",
    "\n",
    "```python\n",
    "sorted(palabras, key=str.lower, reverse=True)\n",
    "```\n",
    "\n",
    "...para ordenar ignorando mayúsculas y en orden descendente.\n",
    "\n",
    "Finalmente, `enumerate()` acepta el argumento `start`, como en:\n",
    "\n",
    "```python\n",
    "enumerate(lista, start=1)\n",
    "```\n",
    "\n",
    "...para numerar los elementos desde un valor inicial determinado.\n",
    "\n",
    "________________________________________________\n",
    "## 📂 MANEJO DE ARCHIVOS\n",
    "\n",
    "En Python, la función `open()` se utiliza para abrir archivos y puede recibir varios argumentos de palabra clave como `mode`, `encoding`, `errors` y `newline`.\n",
    "\n",
    "Por ejemplo, para abrir un archivo de texto en modo lectura (`\"r\"`) y con codificación UTF-8, se puede usar:\n",
    "\n",
    "```python\n",
    "open(\"archivo.txt\", mode=\"r\", encoding=\"utf-8\")\n",
    "```\n",
    "\n",
    "---\n",
    "\n",
    "## 📊 ESTRUCTURAS DE DATOS\n",
    "\n",
    "Python proporciona varias formas de trabajar con estructuras de datos como diccionarios y listas, y muchas de sus funciones o métodos aceptan argumentos de palabra clave para personalizar su comportamiento.\n",
    "\n",
    "- La función `dict()` permite crear diccionarios pasando claves como argumentos nombrados:\n",
    "\n",
    "```python\n",
    "dict(nombre=\"SCA\", edad=20)\n",
    "```\n",
    "\n",
    "- El método `get()` de los diccionarios acepta el argumento `default`, que permite devolver un valor por defecto si la clave no existe:\n",
    "\n",
    "```python\n",
    "persona.get(\"correo\", default=\"no disponible\")\n",
    "```\n",
    "\n",
    "- El método `sort()` de las listas permite ordenar usando los argumentos `key` y `reverse`. Por ejemplo, ordenar por longitud en orden descendente:\n",
    "\n",
    "```python\n",
    "lista.sort(key=len, reverse=True)\n",
    "```\n",
    "\n",
    "- Las funciones `filter()` y `map()` reciben dos argumentos: una función (`func`) y un iterable. Aquí un ejemplo usando `filter()` para filtrar números mayores que cero:\n",
    "\n",
    "```python\n",
    "filter(func=lambda x: x > 0, iterable=nums)\n",
    "```\n",
    "## 📄 JSON (módulo estándar)\n",
    "\n",
    "El módulo `json` de Python permite convertir estructuras de datos a texto JSON. La función `json.dumps()` convierte un objeto a una cadena JSON y puede usar argumentos como `indent` para formatear con sangría, y `sort_keys` para ordenar las claves alfabéticamente.\n",
    "\n",
    "```python\n",
    "json.dumps(data, indent=4, sort_keys=True)\n",
    "```\n",
    "\n",
    "---\n",
    "\n",
    "## 🧩 LIBRERÍAS EXTERNAS\n",
    "\n",
    "Python tiene muchas librerías externas que usan argumentos de palabra clave para ofrecer más control. Aquí algunos ejemplos:\n",
    "\n",
    "- `matplotlib.pyplot.plot()` permite graficar datos y acepta argumentos como `color`, `label` y `linewidth` para personalizar el gráfico:\n",
    "\n",
    "```python\n",
    "plt.plot(x, y, color=\"red\", label=\"datos\")\n",
    "```\n",
    "\n",
    "- En `pandas`, el método `DataFrame.sort_values()` ordena un DataFrame según una columna específica (`by`) y puede usarse con `ascending=False` para ordenar de forma descendente:\n",
    "\n",
    "```python\n",
    "df.sort_values(by=\"edad\", ascending=False)\n",
    "```\n",
    "\n",
    "- La librería `requests` para hacer peticiones HTTP permite usar `params`, `headers` y `timeout` como argumentos clave:\n",
    "\n",
    "```python\n",
    "requests.get(url, params={\"id\": 1})\n",
    "```\n",
    "\n",
    "- En `tkinter`, al crear botones con `Button()`, se puede usar `text`, `command`, `bg` (color de fondo) y `font` como argumentos:\n",
    "\n",
    "```python\n",
    "Button(text=\"OK\", bg=\"blue\", command=saludar)\n",
    "```\n"
   ]
  },
  {
   "cell_type": "markdown",
   "id": "264f0031",
   "metadata": {},
   "source": [
    "**Literales**"
   ]
  },
  {
   "cell_type": "code",
   "execution_count": 1,
   "id": "a4754991",
   "metadata": {},
   "outputs": [
    {
     "name": "stdout",
     "output_type": "stream",
     "text": [
      "Hola\n",
      "I like \"Monty Python\"\n"
     ]
    }
   ],
   "source": [
    "#cadena - str\n",
    "print(\"Hola\")\n",
    "print('I like \"Monty Python\"')"
   ]
  },
  {
   "cell_type": "code",
   "execution_count": 2,
   "id": "3689aab7",
   "metadata": {},
   "outputs": [
    {
     "name": "stdout",
     "output_type": "stream",
     "text": [
      "5\n",
      "1000000000\n",
      "-5\n",
      "42\n",
      "511\n",
      "255\n",
      "800000.0\n"
     ]
    }
   ],
   "source": [
    "#entero - int\n",
    "print(5)\n",
    "print(1_000_000_000)\n",
    "print(-5)\n",
    "print(0b101010) #binario\n",
    "print(0o777) #octal\n",
    "print(0xFF) #hexadecimal\n",
    "print(8E5) #notación científica\n"
   ]
  },
  {
   "cell_type": "code",
   "execution_count": 3,
   "id": "d8266d42",
   "metadata": {},
   "outputs": [
    {
     "name": "stdout",
     "output_type": "stream",
     "text": [
      "5.5\n",
      "0.5\n",
      "5.0\n",
      "6.62607e-34\n",
      "1e-22\n"
     ]
    }
   ],
   "source": [
    "#flotante - float\n",
    "print(5.5)\n",
    "print(.5)\n",
    "print(5.)\n",
    "print(6.62607e-34)\n",
    "print(0.0000000000000000000001)"
   ]
  },
  {
   "cell_type": "code",
   "execution_count": 4,
   "id": "7f7586dd",
   "metadata": {},
   "outputs": [
    {
     "name": "stdout",
     "output_type": "stream",
     "text": [
      "True\n",
      "False\n",
      "True\n",
      "False\n",
      "\n",
      "True\n",
      "False\n",
      "False\n",
      "False\n",
      "True\n",
      "True\n",
      "True\n",
      "False\n"
     ]
    }
   ],
   "source": [
    "#booleanos - bool\n",
    "print(True)\n",
    "print(False)\n",
    "print(True > False)\n",
    "print(True < False) \n",
    "print()\n",
    "print(5 == 5)\n",
    "print(5 != 5)\n",
    "print(5 < 5)\n",
    "print(5 > 5)\n",
    "print(5 <= 5)\n",
    "print(5 >= 5)\n",
    "print(5 in [1, 2, 3, 4, 5])\n",
    "print(5 not in [1, 2, 3, 4, 5])\n",
    "\n"
   ]
  },
  {
   "cell_type": "markdown",
   "id": "5e2fbfb8",
   "metadata": {},
   "source": [
    "**Operadores**"
   ]
  },
  {
   "cell_type": "code",
   "execution_count": 5,
   "id": "f2e8abbb",
   "metadata": {},
   "outputs": [
    {
     "name": "stdout",
     "output_type": "stream",
     "text": [
      "4\n",
      "4.0\n",
      "0\n",
      "4\n",
      "4.0\n",
      "2.0\n",
      "2.0\n",
      "1\n",
      "-2.0\n",
      "3\n",
      "3.0\n",
      "4\n",
      "2\n"
     ]
    }
   ],
   "source": [
    "#operadores basicos\n",
    "print(2+2)\n",
    "print(-4. + 8)\n",
    "print(2-2)\n",
    "print(2*2)\n",
    "print(2*2.)\n",
    "print(4/2)\n",
    "print(4/2.)\n",
    "print(2//2) #division entera\n",
    "print(6. // -4)\n",
    "print(66%7) #modulo\n",
    "print(12 % 4.5)\n",
    "print(2**2) #exponente\n",
    "print(+2) #unario"
   ]
  },
  {
   "cell_type": "code",
   "execution_count": 6,
   "id": "f7193ff0",
   "metadata": {},
   "outputs": [
    {
     "name": "stdout",
     "output_type": "stream",
     "text": [
      "True\n",
      "False\n",
      "False\n",
      "False\n",
      "True\n",
      "True\n"
     ]
    }
   ],
   "source": [
    "#operadores de comparacion\n",
    "print(2 == 2) #igual\n",
    "print(2 != 2) #diferente\n",
    "print(2 < 2) #menor que\n",
    "print(2 > 2) #mayor que\n",
    "print(2 <= 2) #menor o igual que\n",
    "print(2 >= 2) #mayor o igual que"
   ]
  },
  {
   "cell_type": "code",
   "execution_count": 7,
   "id": "7e0ef3ba",
   "metadata": {},
   "outputs": [
    {
     "name": "stdout",
     "output_type": "stream",
     "text": [
      "False\n",
      "True\n",
      "False\n"
     ]
    }
   ],
   "source": [
    "#operadores logicos\n",
    "print(True and False) #and\n",
    "print(True or False) #or\n",
    "print(not True) #not"
   ]
  },
  {
   "cell_type": "code",
   "execution_count": 8,
   "id": "b7642c10",
   "metadata": {},
   "outputs": [
    {
     "name": "stdout",
     "output_type": "stream",
     "text": [
      "True\n",
      "False\n"
     ]
    },
    {
     "name": "stderr",
     "output_type": "stream",
     "text": [
      "<>:2: SyntaxWarning: \"is\" with 'int' literal. Did you mean \"==\"?\n",
      "<>:3: SyntaxWarning: \"is not\" with 'int' literal. Did you mean \"!=\"?\n",
      "<>:2: SyntaxWarning: \"is\" with 'int' literal. Did you mean \"==\"?\n",
      "<>:3: SyntaxWarning: \"is not\" with 'int' literal. Did you mean \"!=\"?\n",
      "C:\\Users\\santy\\AppData\\Local\\Temp\\ipykernel_7408\\1144297432.py:2: SyntaxWarning: \"is\" with 'int' literal. Did you mean \"==\"?\n",
      "  print(2 is 2) #es el mismo objeto\n",
      "C:\\Users\\santy\\AppData\\Local\\Temp\\ipykernel_7408\\1144297432.py:3: SyntaxWarning: \"is not\" with 'int' literal. Did you mean \"!=\"?\n",
      "  print(2 is not 2) #no es el mismo objeto\n"
     ]
    }
   ],
   "source": [
    "#operadores de identidad\n",
    "print(2 is 2) #es el mismo objeto\n",
    "print(2 is not 2) #no es el mismo objeto"
   ]
  },
  {
   "cell_type": "code",
   "execution_count": 9,
   "id": "4005b447",
   "metadata": {},
   "outputs": [
    {
     "name": "stdout",
     "output_type": "stream",
     "text": [
      "True\n",
      "False\n"
     ]
    }
   ],
   "source": [
    "#operadores de pertenencia\n",
    "print(2 in [1, 2, 3]) #pertenece a la lista\n",
    "print(2 not in [1, 2, 3]) #no pertenece a la lista\n"
   ]
  },
  {
   "cell_type": "code",
   "execution_count": 10,
   "id": "b508c251",
   "metadata": {},
   "outputs": [
    {
     "name": "stdout",
     "output_type": "stream",
     "text": [
      "5\n"
     ]
    }
   ],
   "source": [
    "#operadores de asignacion\n",
    "print(a := 5) #asignacion y retorno"
   ]
  },
  {
   "cell_type": "code",
   "execution_count": 11,
   "id": "9da5d4c0",
   "metadata": {},
   "outputs": [
    {
     "name": "stdout",
     "output_type": "stream",
     "text": [
      "2\n",
      "3\n",
      "1\n",
      "-3\n",
      "8\n",
      "0\n"
     ]
    }
   ],
   "source": [
    "#operadores de bit\n",
    "print(2 & 3) #and bit a bit\n",
    "print(2 | 3) #or bit a bit\n",
    "print(2 ^ 3) #xor bit a bit\n",
    "print(~2) #not bit a bit\n",
    "print(2 << 2) #desplazamiento a la izquierda\n",
    "print(2 >> 2) #desplazamiento a la derecha\n",
    "\n"
   ]
  },
  {
   "cell_type": "code",
   "execution_count": 12,
   "id": "fe09bab8",
   "metadata": {},
   "outputs": [
    {
     "name": "stdout",
     "output_type": "stream",
     "text": [
      "Hola Mundo\n",
      "HolaHolaHola\n"
     ]
    }
   ],
   "source": [
    "#operadores de cadena\n",
    "print(\"Hola\" + \" Mundo\") #concatenacion\n",
    "print(\"Hola\" * 3) #repeticion"
   ]
  },
  {
   "cell_type": "code",
   "execution_count": 13,
   "id": "fe83db14",
   "metadata": {},
   "outputs": [
    {
     "name": "stdout",
     "output_type": "stream",
     "text": [
      "[1, 2, 3, 4, 5, 6]\n",
      "[1, 2, 3, 1, 2, 3, 1, 2, 3]\n"
     ]
    }
   ],
   "source": [
    "#operadores de lista\n",
    "print([1, 2, 3] + [4, 5, 6]) #concatenacion\n",
    "print([1, 2, 3] * 3) #repeticion"
   ]
  },
  {
   "cell_type": "code",
   "execution_count": 14,
   "id": "61d222a4",
   "metadata": {},
   "outputs": [
    {
     "name": "stdout",
     "output_type": "stream",
     "text": [
      "{'a': 1, 'b': 2, 'c': 3}\n"
     ]
    }
   ],
   "source": [
    "#operadores de diccionario\n",
    "print({\"a\": 1, \"b\": 2} | {\"c\": 3}) #union\n",
    "#print({\"a\": 1, \"b\": 2} & {\"b\": 3, \"c\": 4}) - interseccion This operation is not supported for dictionaries\n"
   ]
  },
  {
   "cell_type": "code",
   "execution_count": 15,
   "id": "bac98a9c",
   "metadata": {},
   "outputs": [
    {
     "name": "stdout",
     "output_type": "stream",
     "text": [
      "{1, 2, 3, 4, 5, 6}\n",
      "{2, 3}\n"
     ]
    }
   ],
   "source": [
    "#operadores de conjunto\n",
    "print({1, 2, 3} | {4, 5, 6}) #union\n",
    "print({1, 2, 3} & {2, 3, 4}) #interseccion"
   ]
  },
  {
   "cell_type": "code",
   "execution_count": 16,
   "id": "8bbcf7d2",
   "metadata": {},
   "outputs": [
    {
     "name": "stdout",
     "output_type": "stream",
     "text": [
      "range(1, 10)\n",
      "range(1, 10, 2)\n"
     ]
    }
   ],
   "source": [
    "#operadores de rango\n",
    "print(range(1, 10)) #rango\n",
    "print(range(1, 10, 2)) #rango con paso"
   ]
  },
  {
   "cell_type": "code",
   "execution_count": 17,
   "id": "7af22dfa",
   "metadata": {},
   "outputs": [
    {
     "name": "stdout",
     "output_type": "stream",
     "text": [
      "140727404733480\n",
      "2141669135184\n"
     ]
    }
   ],
   "source": [
    "#operadores de memoria\n",
    "print(id(5)) #direccion de memoria\n",
    "print(id(\"Hola\")) #direccion de memoria"
   ]
  },
  {
   "cell_type": "code",
   "execution_count": 18,
   "id": "7af22008",
   "metadata": {},
   "outputs": [
    {
     "name": "stdout",
     "output_type": "stream",
     "text": [
      "<class 'int'>\n",
      "<class 'str'>\n"
     ]
    }
   ],
   "source": [
    "#operadores de tipo\n",
    "print(type(5)) #tipo de dato\n",
    "print(type(\"Hola\")) #tipo de dato\n"
   ]
  },
  {
   "cell_type": "markdown",
   "id": "fdf271b2",
   "metadata": {},
   "source": [
    "En Python, los operadores tienen diferentes niveles de prioridad. El operador con mayor prioridad es la potencia, representado por `**`. Le siguen los operadores unarios `+` y `-`, los cuales, si se ubican a la derecha del operador de potencia, se enlazan con mayor fuerza. Después vienen los operadores de multiplicación, división, división entera y módulo, representados por `*`, `/`, `//` y `%`, respectivamente. Por último, los operadores con menor prioridad son los binarios de suma y resta, que son `+` y  `-`."
   ]
  },
  {
   "cell_type": "code",
   "execution_count": 19,
   "id": "d075caaa",
   "metadata": {},
   "outputs": [
    {
     "name": "stdout",
     "output_type": "stream",
     "text": [
      "10.0\n"
     ]
    }
   ],
   "source": [
    "#operadores y parentesis \n",
    "print((5 * ((25 % 13) + 100) / (2 * 13)) // 2)\n",
    "    "
   ]
  },
  {
   "cell_type": "markdown",
   "id": "9088b20d",
   "metadata": {},
   "source": [
    "**Variables**"
   ]
  },
  {
   "cell_type": "code",
   "execution_count": 20,
   "id": "02c3e219",
   "metadata": {},
   "outputs": [
    {
     "name": "stdout",
     "output_type": "stream",
     "text": [
      "1\n"
     ]
    }
   ],
   "source": [
    "uno = 1\n",
    "print(uno)"
   ]
  },
  {
   "cell_type": "code",
   "execution_count": 21,
   "id": "347cfedb",
   "metadata": {},
   "outputs": [
    {
     "name": "stdout",
     "output_type": "stream",
     "text": [
      "1 1000.0 John Doe\n",
      "1\n"
     ]
    }
   ],
   "source": [
    "var = 1\n",
    "account_balance = 1000.0\n",
    "client_name = 'John Doe'\n",
    "print(var, account_balance, client_name)\n",
    "print(var)"
   ]
  },
  {
   "cell_type": "code",
   "execution_count": 22,
   "id": "9115badb",
   "metadata": {},
   "outputs": [
    {
     "name": "stdout",
     "output_type": "stream",
     "text": [
      "1\n",
      "2\n"
     ]
    }
   ],
   "source": [
    "# Cómo asignar un nuevo valor a una variable ya existente\n",
    "var = 1\n",
    "print(var)\n",
    "var = var + 1\n",
    "print(var)\n"
   ]
  },
  {
   "cell_type": "code",
   "execution_count": 23,
   "id": "7839a663",
   "metadata": {},
   "outputs": [
    {
     "name": "stdout",
     "output_type": "stream",
     "text": [
      "john tiene 5 manzanas \n",
      "mary tiene 5 manzanas \n",
      "adam tiene 5 manzanas\n",
      "\n",
      "los 3 tienen 15 manzanas\n"
     ]
    }
   ],
   "source": [
    "john = 5 \n",
    "mary = 5\n",
    "adam = 5\n",
    "print(f\"john tiene {john} manzanas \\nmary tiene {mary} manzanas \\nadam tiene {adam} manzanas\\n\")\n",
    "total_apples = john + mary + adam\n",
    "print(f\"los 3 tienen {total_apples} manzanas\")\n"
   ]
  },
  {
   "cell_type": "code",
   "execution_count": 24,
   "id": "1bb5b7ad",
   "metadata": {},
   "outputs": [
    {
     "name": "stdout",
     "output_type": "stream",
     "text": [
      "10\n"
     ]
    }
   ],
   "source": [
    "#operadoresde acceso directo\n",
    "x = 5\n",
    "x = x * 2\n",
    "print(x)\n"
   ]
  },
  {
   "cell_type": "code",
   "execution_count": 34,
   "id": "f618e2ce",
   "metadata": {},
   "outputs": [
    {
     "name": "stdout",
     "output_type": "stream",
     "text": [
      "10\n"
     ]
    }
   ],
   "source": [
    "x = 5\n",
    "x  *= 2\n",
    "print(x)"
   ]
  },
  {
   "cell_type": "markdown",
   "id": "01511ab7",
   "metadata": {},
   "source": [
    "Expresión ```i = i + 2 + j``` operadores de atajo ```i += 2 * j```\n",
    "Expresión ```var = var/2``` operadores de atajo ```var/= 2```\n",
    "Expresión ```rem = rem % 10``` operadores de atajo ```rem %= 10```\n",
    "Expresión ```j = j - (i + var + rem)``` operadores de atajo ```j -= (i + var + rem)```\n",
    "Expresión ```x = x ** 2``` operadores de atajo ```x **= 2```"
   ]
  },
  {
   "cell_type": "code",
   "execution_count": 37,
   "id": "cb011d77",
   "metadata": {},
   "outputs": [
    {
     "name": "stdout",
     "output_type": "stream",
     "text": [
      "7.38 miles is 11.88 kilometers\n",
      "12.25 kilometers is 7.61 miles\n"
     ]
    }
   ],
   "source": [
    "kilometers = 12.25\n",
    "miles = 7.38\n",
    "\n",
    "miles_to_kilometers = miles * 1.60934\n",
    "kilometers_to_miles = kilometers / 1.60934\n",
    "\n",
    "print(miles, \"miles is\", round(miles_to_kilometers, 2), \"kilometers\")\n",
    "print(kilometers, \"kilometers is\", round(kilometers_to_miles, 2), \"miles\")\n"
   ]
  },
  {
   "cell_type": "code",
   "execution_count": null,
   "id": "f3b72a5d",
   "metadata": {},
   "outputs": [],
   "source": [
    "#El round() en Python es una función que redondea un número decimal a la cantidad de decimales que tú le indiques.\n",
    "print (round(7.123456, 4))  # Resultado: 7.1235\n",
    "print (round(7.123456, 0))  # Resultado: 7.0 (redondea a número entero con punto decimal)\n",
    "print (round(7.123456))     # Resultado: 7 (redondea al entero más cercano, sin decimales)\n"
   ]
  },
  {
   "cell_type": "code",
   "execution_count": 44,
   "id": "9d9a3624",
   "metadata": {},
   "outputs": [
    {
     "name": "stdout",
     "output_type": "stream",
     "text": [
      "y = -1.0\n",
      "y = 3.0\n",
      "y = -9.0\n"
     ]
    }
   ],
   "source": [
    "#operadores y expresiones\n",
    "x = 0\n",
    "x = float(x)\n",
    "y = 3 * x**3 - 2 * x**2 + 3 * x - 1\n",
    "print(\"y =\", y)\n",
    "\n",
    "x = 1\n",
    "x = float(x)\n",
    "y = 3 * x**3 - 2 * x**2 + 3 * x - 1\n",
    "print(\"y =\", y)\n",
    "\n",
    "x = -1\n",
    "x = float(x)\n",
    "y = 3 * x**3 - 2 * x**2 + 3 * x - 1\n",
    "print(\"y =\", y)"
   ]
  }
 ],
 "metadata": {
  "kernelspec": {
   "display_name": "Python 3",
   "language": "python",
   "name": "python3"
  },
  "language_info": {
   "codemirror_mode": {
    "name": "ipython",
    "version": 3
   },
   "file_extension": ".py",
   "mimetype": "text/x-python",
   "name": "python",
   "nbconvert_exporter": "python",
   "pygments_lexer": "ipython3",
   "version": "3.13.3"
  }
 },
 "nbformat": 4,
 "nbformat_minor": 5
}
